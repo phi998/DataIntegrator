{
 "cells": [
  {
   "cell_type": "markdown",
   "source": [
    "# Data Quality\n",
    "\n",
    "This notebook aims to show the performance of the pipeline, in terms of precision and recall.\n",
    "\n",
    "The main aim is to measure the performance of activities that are delegated to external services, like ChatGpt or other LLMs. Data quality measurements for classic tasks like dropping html tags and semi-empty columns are ignored since the moment we trust the tools python gives us.\n",
    "There's an experiment execution for each dataset.\n",
    "In this notebook we will see mainly column naming, with a short focus on other tasks, like record linkage, that are not involved in the final project.\n",
    "\n",
    "### How data quality is measured\n",
    "\n",
    "Independently from the tasks we want to perform, we measure the similarity between two tables: the input and what we expect."
   ],
   "metadata": {
    "collapsed": false
   }
  },
  {
   "cell_type": "markdown",
   "source": [
    "## Column naming\n",
    "\n",
    "Column naming is the activity to give a name to each column of a table.\n",
    "There are two different scenarios:\n",
    "- column names are provided: in this case we have an ontology\n",
    "- column names are not provided\n",
    "\n",
    "Following the study done with \"Column Type Annotation using ChatGPT\" (https://arxiv.org/abs/2306.00745) we study only the case where ontology is provided, since it gives the most accurate result.\n",
    "Furthermore, the user is asked to give some inputs, like the ontology, the importance of each item of the ontology and the type (title, prose, numeric)."
   ],
   "metadata": {
    "collapsed": false
   }
  },
  {
   "cell_type": "markdown",
   "source": [
    "## Experiments\n",
    "\n",
    "Initialization, create objects for datasets and ontology reading:"
   ],
   "metadata": {
    "collapsed": false
   }
  },
  {
   "cell_type": "code",
   "execution_count": 2,
   "outputs": [],
   "source": [
    "import json\n",
    "\n",
    "from filesystem import DataReader\n",
    "from proxy import PipelineClient\n",
    "from IPython.display import JSON\n",
    "\n",
    "dr = DataReader.DataReader(\"datasets/\")\n",
    "pc = PipelineClient.PipelineClient(base_url=\"http://localhost:8080\")\n",
    "\n",
    "ontologies_file_path = \"ontologies.json\"\n",
    "with open(ontologies_file_path, 'r') as file:\n",
    "    ontologies = json.load(file)"
   ],
   "metadata": {
    "collapsed": false,
    "ExecuteTime": {
     "end_time": "2023-12-14T07:39:28.887757600Z",
     "start_time": "2023-12-14T07:39:26.669291100Z"
    }
   }
  },
  {
   "cell_type": "markdown",
   "source": [
    "### Companies 2\n",
    "This is a simple dataset with manually web extracted data, just using XPath expressions for each attribute to extract"
   ],
   "metadata": {
    "collapsed": false
   }
  },
  {
   "cell_type": "code",
   "execution_count": 10,
   "metadata": {
    "collapsed": true,
    "ExecuteTime": {
     "end_time": "2023-12-07T06:56:54.427171900Z",
     "start_time": "2023-12-07T06:56:54.371271400Z"
    }
   },
   "outputs": [],
   "source": [
    "experiment_name = \"companies_2\"\n",
    "df_companies = dr.read_dataset(experiment_name)\n",
    "companies_ontology = ontologies[\"companies\"]"
   ]
  },
  {
   "cell_type": "code",
   "execution_count": 3,
   "outputs": [
    {
     "data": {
      "text/plain": "                                                   0     1        2  \\\n0                             Diversified Financials  1939  $276.1B   \n1                                            Banking  1984  $208.1B   \n2                               Oil & Gas Operations  1933  $400.4B   \n3                     Banking and Financial Services  2000  $124.5B   \n4                                            Banking  2014  $202.1B   \n5                               Retail and Wholesale  1994  $469.8B   \n6  Semiconductors, Electronics, Electrical Engine...  1976  $378.7B   \n7                                            Banking  1979  $181.4B   \n8                     Banking and Financial Services  1904   $96.8B   \n9                                  Consumer Durables  1937  $281.7B   \n\n                                          3                          4  \n0                        Berkshire Hathaway            Omaha, Nebraska  \n1                                      ICBC             Beijing, China  \n2  Saudi Arabian Oil Company (Saudi Aramco)      Dhahran, Saudi Arabia  \n3                            JPMorgan Chase         New York, New York  \n4                   China Construction Bank             Beijing, China  \n5                                    Amazon        Seattle, Washington  \n6                                     Apple      Cupertino, California  \n7                Agricultural Bank of China             Beijing, China  \n8                           Bank of America  Charlotte, North Carolina  \n9                              Toyota Motor              Toyota, Japan  ",
      "text/html": "<div>\n<style scoped>\n    .dataframe tbody tr th:only-of-type {\n        vertical-align: middle;\n    }\n\n    .dataframe tbody tr th {\n        vertical-align: top;\n    }\n\n    .dataframe thead th {\n        text-align: right;\n    }\n</style>\n<table border=\"1\" class=\"dataframe\">\n  <thead>\n    <tr style=\"text-align: right;\">\n      <th></th>\n      <th>0</th>\n      <th>1</th>\n      <th>2</th>\n      <th>3</th>\n      <th>4</th>\n    </tr>\n  </thead>\n  <tbody>\n    <tr>\n      <th>0</th>\n      <td>Diversified Financials</td>\n      <td>1939</td>\n      <td>$276.1B</td>\n      <td>Berkshire Hathaway</td>\n      <td>Omaha, Nebraska</td>\n    </tr>\n    <tr>\n      <th>1</th>\n      <td>Banking</td>\n      <td>1984</td>\n      <td>$208.1B</td>\n      <td>ICBC</td>\n      <td>Beijing, China</td>\n    </tr>\n    <tr>\n      <th>2</th>\n      <td>Oil &amp; Gas Operations</td>\n      <td>1933</td>\n      <td>$400.4B</td>\n      <td>Saudi Arabian Oil Company (Saudi Aramco)</td>\n      <td>Dhahran, Saudi Arabia</td>\n    </tr>\n    <tr>\n      <th>3</th>\n      <td>Banking and Financial Services</td>\n      <td>2000</td>\n      <td>$124.5B</td>\n      <td>JPMorgan Chase</td>\n      <td>New York, New York</td>\n    </tr>\n    <tr>\n      <th>4</th>\n      <td>Banking</td>\n      <td>2014</td>\n      <td>$202.1B</td>\n      <td>China Construction Bank</td>\n      <td>Beijing, China</td>\n    </tr>\n    <tr>\n      <th>5</th>\n      <td>Retail and Wholesale</td>\n      <td>1994</td>\n      <td>$469.8B</td>\n      <td>Amazon</td>\n      <td>Seattle, Washington</td>\n    </tr>\n    <tr>\n      <th>6</th>\n      <td>Semiconductors, Electronics, Electrical Engine...</td>\n      <td>1976</td>\n      <td>$378.7B</td>\n      <td>Apple</td>\n      <td>Cupertino, California</td>\n    </tr>\n    <tr>\n      <th>7</th>\n      <td>Banking</td>\n      <td>1979</td>\n      <td>$181.4B</td>\n      <td>Agricultural Bank of China</td>\n      <td>Beijing, China</td>\n    </tr>\n    <tr>\n      <th>8</th>\n      <td>Banking and Financial Services</td>\n      <td>1904</td>\n      <td>$96.8B</td>\n      <td>Bank of America</td>\n      <td>Charlotte, North Carolina</td>\n    </tr>\n    <tr>\n      <th>9</th>\n      <td>Consumer Durables</td>\n      <td>1937</td>\n      <td>$281.7B</td>\n      <td>Toyota Motor</td>\n      <td>Toyota, Japan</td>\n    </tr>\n  </tbody>\n</table>\n</div>"
     },
     "execution_count": 3,
     "metadata": {},
     "output_type": "execute_result"
    }
   ],
   "source": [
    "df_companies"
   ],
   "metadata": {
    "collapsed": false,
    "ExecuteTime": {
     "end_time": "2023-12-06T17:38:05.643073100Z",
     "start_time": "2023-12-06T17:38:05.641076Z"
    }
   }
  },
  {
   "cell_type": "code",
   "execution_count": 13,
   "outputs": [
    {
     "name": "stdout",
     "output_type": "stream",
     "text": [
      "{\n",
      "  \"Company Name\": {\n",
      "    \"type\": \"TITLE\",\n",
      "    \"importance\": 9\n",
      "  },\n",
      "  \"Location\": {\n",
      "    \"type\": \"TITLE\",\n",
      "    \"importance\": 5\n",
      "  },\n",
      "  \"Foundation\": {\n",
      "    \"type\": \"DATE\",\n",
      "    \"importance\": 3\n",
      "  },\n",
      "  \"Industry\": {\n",
      "    \"type\": \"TITLE\",\n",
      "    \"importance\": 6\n",
      "  },\n",
      "  \"Revenue\": {\n",
      "    \"type\": \"MONEY\",\n",
      "    \"importance\": 2\n",
      "  }\n",
      "}\n"
     ]
    }
   ],
   "source": [
    "print(json.dumps(companies_ontology, indent=2))"
   ],
   "metadata": {
    "collapsed": false,
    "ExecuteTime": {
     "end_time": "2023-12-07T06:45:34.216310600Z",
     "start_time": "2023-12-07T06:45:34.201598800Z"
    }
   }
  },
  {
   "cell_type": "markdown",
   "source": [
    "Then, set job parameters"
   ],
   "metadata": {
    "collapsed": false
   }
  },
  {
   "cell_type": "code",
   "execution_count": 61,
   "outputs": [],
   "source": [
    "new_job = pc.create_new_job(job_name=experiment_name, ontology=companies_ontology)\n",
    "new_job_id = new_job[\"jobId\"]"
   ],
   "metadata": {
    "collapsed": false,
    "ExecuteTime": {
     "end_time": "2023-12-06T12:33:28.605879400Z",
     "start_time": "2023-12-06T12:33:28.328993800Z"
    }
   }
  },
  {
   "cell_type": "markdown",
   "source": [
    "Add the table"
   ],
   "metadata": {
    "collapsed": false
   }
  },
  {
   "cell_type": "code",
   "execution_count": 62,
   "outputs": [],
   "source": [
    "pc.upload_table(table_name=experiment_name,df=df_companies,job_id=new_job_id,columns_to_ignore=[])"
   ],
   "metadata": {
    "collapsed": false,
    "ExecuteTime": {
     "end_time": "2023-12-06T12:33:28.746569500Z",
     "start_time": "2023-12-06T12:33:28.618415700Z"
    }
   }
  },
  {
   "cell_type": "markdown",
   "source": [
    "Run the pipeline"
   ],
   "metadata": {
    "collapsed": false
   }
  },
  {
   "cell_type": "code",
   "execution_count": 3,
   "outputs": [],
   "source": [
    "pc.start_job(new_job_id)"
   ],
   "metadata": {
    "collapsed": false,
    "ExecuteTime": {
     "end_time": "2023-12-06T12:34:47.500664500Z",
     "start_time": "2023-12-06T12:34:46.428674600Z"
    }
   }
  },
  {
   "cell_type": "markdown",
   "source": [
    "#### Results\n",
    "The pipeline got a 100% accuracy in the results.\n",
    "With the basic scenario where the user can face a simple dataset with low missing values rate and well formatted data, we can get the maximum accuracy."
   ],
   "metadata": {
    "collapsed": false
   }
  },
  {
   "cell_type": "code",
   "execution_count": 4,
   "outputs": [
    {
     "data": {
      "text/plain": "                                            Industry  Foundation  Revenue  \\\n0                             Diversified Financials        1939  $276.1B   \n1                                            Banking        1984  $208.1B   \n2                               Oil & Gas Operations        1933  $400.4B   \n3                     Banking and Financial Services        2000  $124.5B   \n4                                            Banking        2014  $202.1B   \n5                               Retail and Wholesale        1994  $469.8B   \n6  Semiconductors, Electronics, Electrical Engine...        1976  $378.7B   \n7                                            Banking        1979  $181.4B   \n8                     Banking and Financial Services        1904   $96.8B   \n9                                  Consumer Durables        1937  $281.7B   \n\n                               Company Name                   Location  \n0                        Berkshire Hathaway            Omaha, Nebraska  \n1                                      ICBC             Beijing, China  \n2  Saudi Arabian Oil Company (Saudi Aramco)      Dhahran, Saudi Arabia  \n3                            JPMorgan Chase         New York, New York  \n4                   China Construction Bank             Beijing, China  \n5                                    Amazon        Seattle, Washington  \n6                                     Apple      Cupertino, California  \n7                Agricultural Bank of China             Beijing, China  \n8                           Bank of America  Charlotte, North Carolina  \n9                              Toyota Motor              Toyota, Japan  ",
      "text/html": "<div>\n<style scoped>\n    .dataframe tbody tr th:only-of-type {\n        vertical-align: middle;\n    }\n\n    .dataframe tbody tr th {\n        vertical-align: top;\n    }\n\n    .dataframe thead th {\n        text-align: right;\n    }\n</style>\n<table border=\"1\" class=\"dataframe\">\n  <thead>\n    <tr style=\"text-align: right;\">\n      <th></th>\n      <th>Industry</th>\n      <th>Foundation</th>\n      <th>Revenue</th>\n      <th>Company Name</th>\n      <th>Location</th>\n    </tr>\n  </thead>\n  <tbody>\n    <tr>\n      <th>0</th>\n      <td>Diversified Financials</td>\n      <td>1939</td>\n      <td>$276.1B</td>\n      <td>Berkshire Hathaway</td>\n      <td>Omaha, Nebraska</td>\n    </tr>\n    <tr>\n      <th>1</th>\n      <td>Banking</td>\n      <td>1984</td>\n      <td>$208.1B</td>\n      <td>ICBC</td>\n      <td>Beijing, China</td>\n    </tr>\n    <tr>\n      <th>2</th>\n      <td>Oil &amp; Gas Operations</td>\n      <td>1933</td>\n      <td>$400.4B</td>\n      <td>Saudi Arabian Oil Company (Saudi Aramco)</td>\n      <td>Dhahran, Saudi Arabia</td>\n    </tr>\n    <tr>\n      <th>3</th>\n      <td>Banking and Financial Services</td>\n      <td>2000</td>\n      <td>$124.5B</td>\n      <td>JPMorgan Chase</td>\n      <td>New York, New York</td>\n    </tr>\n    <tr>\n      <th>4</th>\n      <td>Banking</td>\n      <td>2014</td>\n      <td>$202.1B</td>\n      <td>China Construction Bank</td>\n      <td>Beijing, China</td>\n    </tr>\n    <tr>\n      <th>5</th>\n      <td>Retail and Wholesale</td>\n      <td>1994</td>\n      <td>$469.8B</td>\n      <td>Amazon</td>\n      <td>Seattle, Washington</td>\n    </tr>\n    <tr>\n      <th>6</th>\n      <td>Semiconductors, Electronics, Electrical Engine...</td>\n      <td>1976</td>\n      <td>$378.7B</td>\n      <td>Apple</td>\n      <td>Cupertino, California</td>\n    </tr>\n    <tr>\n      <th>7</th>\n      <td>Banking</td>\n      <td>1979</td>\n      <td>$181.4B</td>\n      <td>Agricultural Bank of China</td>\n      <td>Beijing, China</td>\n    </tr>\n    <tr>\n      <th>8</th>\n      <td>Banking and Financial Services</td>\n      <td>1904</td>\n      <td>$96.8B</td>\n      <td>Bank of America</td>\n      <td>Charlotte, North Carolina</td>\n    </tr>\n    <tr>\n      <th>9</th>\n      <td>Consumer Durables</td>\n      <td>1937</td>\n      <td>$281.7B</td>\n      <td>Toyota Motor</td>\n      <td>Toyota, Japan</td>\n    </tr>\n  </tbody>\n</table>\n</div>"
     },
     "execution_count": 4,
     "metadata": {},
     "output_type": "execute_result"
    }
   ],
   "source": [
    "df_companies_result = dr.read_result(experiment_name)\n",
    "df_companies_result"
   ],
   "metadata": {
    "collapsed": false,
    "ExecuteTime": {
     "end_time": "2023-12-06T17:38:09.988225300Z",
     "start_time": "2023-12-06T17:38:09.972191100Z"
    }
   }
  },
  {
   "cell_type": "markdown",
   "source": [
    "### Companies 3\n",
    "This is another plain example with manually extracted web data. This experiment can show us that we may have multiple columns with the same name"
   ],
   "metadata": {
    "collapsed": false
   }
  },
  {
   "cell_type": "markdown",
   "source": [
    "### Finance 1\n"
   ],
   "metadata": {
    "collapsed": false
   }
  },
  {
   "cell_type": "code",
   "execution_count": 22,
   "outputs": [],
   "source": [
    "experiment_name = \"finance_1\"\n",
    "df_finance = dr.read_dataset(experiment_name)\n",
    "finance_ontology = ontologies[\"finance\"]"
   ],
   "metadata": {
    "collapsed": false,
    "ExecuteTime": {
     "end_time": "2023-12-14T07:56:33.922436400Z",
     "start_time": "2023-12-14T07:56:33.689718500Z"
    }
   }
  },
  {
   "cell_type": "code",
   "execution_count": 23,
   "outputs": [
    {
     "data": {
      "text/plain": "                     0                                                  1    \\\n0    2023-11-07 18:48:26  consulenti-del-lavoro-sinsedia-il-consiglio-na...   \n1    2023-11-08 16:05:38  cnos-fap-grandi-chance-per-la-filiera-tecnico-...   \n2    2023-11-11 00:14:31  ad-aosta-lunedi-convegno-della-cassa-dottori-c...   \n3    2023-11-11 00:14:32  calderone-per-le-pensioni-rinvio-o-stretta-sol...   \n4    2023-11-11 00:14:33  manovra-confprofessioni-incentivi-ad-autonomi-...   \n..                   ...                                                ...   \n139  2023-11-08 16:05:38  alfredo-granata-nominato-direttore-generale-di...   \n140  2023-11-07 18:48:26  dottori-commercialisti-l8-novembre-la-cassa-in...   \n141  2023-11-08 16:05:39  maltempo-commercialisti-chiedono-lo-stop-alle-...   \n142  2023-11-07 18:48:26  notai-parte-oggi-il-registro-volontario-dei-te...   \n143  2023-11-08 16:05:39  avvocati-una-giovane-su-2-ha-fermato-lattivita...   \n\n                                                   2    \\\n0    https://www.ansa.it/sito/notizie/ordini_profes...   \n1    https://www.ansa.it/sito/notizie/fisco_lavoro/...   \n2    https://www.ansa.it/sito/notizie/casse_previde...   \n3    https://www.ansa.it/sito/notizie/ordini_profes...   \n4    https://www.ansa.it/sito/notizie/fisco_lavoro/...   \n..                                                 ...   \n139  https://www.ansa.it/sito/notizie/casse_previde...   \n140  https://www.ansa.it/sito/notizie/casse_previde...   \n141  https://www.ansa.it/sito/notizie/ordini_profes...   \n142  https://www.ansa.it/sito/notizie/ordini_profes...   \n143  https://www.ansa.it/sito/notizie/fisco_lavoro/...   \n\n                                                   3    \\\n0    https://www.ansa.it/sito/notizie/economia/prof...   \n1    https://www.ansa.it/sito/notizie/economia/prof...   \n2    https://www.ansa.it/sito/notizie/economia/prof...   \n3    https://www.ansa.it/sito/notizie/economia/prof...   \n4    https://www.ansa.it/sito/notizie/economia/prof...   \n..                                                 ...   \n139  https://www.ansa.it/sito/notizie/economia/prof...   \n140  https://www.ansa.it/sito/notizie/economia/prof...   \n141  https://www.ansa.it/sito/notizie/economia/prof...   \n142  https://www.ansa.it/sito/notizie/economia/prof...   \n143  https://www.ansa.it/sito/notizie/economia/prof...   \n\n                                                   4    5    \\\n0    //div[@class='article-teaser']/div[@class='art...    1   \n1    //div[@class='article-teaser']/div[@class='art...    1   \n2    //div[@class='article-teaser']/div[@class='art...    1   \n3    //div[@class='article-teaser']/div[@class='art...    1   \n4    //div[@class='article-teaser']/div[@class='art...    1   \n..                                                 ...  ...   \n139  //div[@class='article-teaser']/div[@class='art...    6   \n140  //div[@class='article-teaser']/div[@class='art...    7   \n141  //div[@class='article-teaser']/div[@class='art...    7   \n142  //div[@class='article-teaser']/div[@class='art...    8   \n143  //div[@class='article-teaser']/div[@class='art...    8   \n\n                                6    \\\n0    <meta charset=\"UTF-8\"> </meta>   \n1    <meta charset=\"UTF-8\"> </meta>   \n2    <meta charset=\"UTF-8\"> </meta>   \n3    <meta charset=\"UTF-8\"> </meta>   \n4    <meta charset=\"UTF-8\"> </meta>   \n..                              ...   \n139  <meta charset=\"UTF-8\"> </meta>   \n140  <meta charset=\"UTF-8\"> </meta>   \n141  <meta charset=\"UTF-8\"> </meta>   \n142  <meta charset=\"UTF-8\"> </meta>   \n143  <meta charset=\"UTF-8\"> </meta>   \n\n                                                   7    \\\n0    Consulenti del lavoro, s'insedia il Consiglio ...   \n1    Cnos-Fap, 'grandi chance per la filiera tecnic...   \n2    Ad Aosta lunedì convegno della Cassa dottori c...   \n3    Calderone, per le pensioni rinvio, o stretta s...   \n4    Manovra: Confprofessioni, incentivi ad autonom...   \n..                                                 ...   \n139  Alfredo Granata nominato direttore generale di...   \n140  Dottori commercialisti, l'8 novembre la Cassa ...   \n141  Maltempo, commercialisti chiedono lo stop alle...   \n142  Notai, parte oggi il registro volontario dei t...   \n143  Avvocati, una giovane su 2 ha fermato l'attivi...   \n\n                                                   8    \\\n0    <meta content=\"width=device-width, initial-sca...   \n1    <meta content=\"width=device-width, initial-sca...   \n2    <meta content=\"width=device-width, initial-sca...   \n3    <meta content=\"width=device-width, initial-sca...   \n4    <meta content=\"width=device-width, initial-sca...   \n..                                                 ...   \n139  <meta content=\"width=device-width, initial-sca...   \n140  <meta content=\"width=device-width, initial-sca...   \n141  <meta content=\"width=device-width, initial-sca...   \n142  <meta content=\"width=device-width, initial-sca...   \n143  <meta content=\"width=device-width, initial-sca...   \n\n                                                   9    ...  531  532  533  \\\n0    <link as=\"style\" href=\"/sito/cssnew/1024093008...  ...  NaN  NaN  NaN   \n1    <link as=\"style\" href=\"/sito/cssnew/1024093008...  ...  NaN  NaN  NaN   \n2    <link as=\"style\" href=\"/sito/cssnew/1024093008...  ...  NaN  NaN  NaN   \n3    <link as=\"style\" href=\"/sito/cssnew/1024093008...  ...  NaN  NaN  NaN   \n4    <link as=\"style\" href=\"/sito/cssnew/1024093008...  ...  NaN  NaN  NaN   \n..                                                 ...  ...  ...  ...  ...   \n139  <link as=\"style\" href=\"/sito/cssnew/1024093008...  ...  NaN  NaN  NaN   \n140  <link as=\"style\" href=\"/sito/cssnew/1024093008...  ...  NaN  NaN  NaN   \n141  <link as=\"style\" href=\"/sito/cssnew/1024093008...  ...  NaN  NaN  NaN   \n142  <link as=\"style\" href=\"/sito/cssnew/1024093008...  ...  NaN  NaN  NaN   \n143  <link as=\"style\" href=\"/sito/cssnew/1024093008...  ...  NaN  NaN  NaN   \n\n     534  535  536  537  538  539  540  \n0    NaN  NaN  NaN  NaN  NaN  NaN  NaN  \n1    NaN  NaN  NaN  NaN  NaN  NaN  NaN  \n2    NaN  NaN  NaN  NaN  NaN  NaN  NaN  \n3    NaN  NaN  NaN  NaN  NaN  NaN  NaN  \n4    NaN  NaN  NaN  NaN  NaN  NaN  NaN  \n..   ...  ...  ...  ...  ...  ...  ...  \n139  NaN  NaN  NaN  NaN  NaN  NaN  NaN  \n140  NaN  NaN  NaN  NaN  NaN  NaN  NaN  \n141  NaN  NaN  NaN  NaN  NaN  NaN  NaN  \n142  NaN  NaN  NaN  NaN  NaN  NaN  NaN  \n143  NaN  NaN  NaN  NaN  NaN  NaN  NaN  \n\n[144 rows x 541 columns]",
      "text/html": "<div>\n<style scoped>\n    .dataframe tbody tr th:only-of-type {\n        vertical-align: middle;\n    }\n\n    .dataframe tbody tr th {\n        vertical-align: top;\n    }\n\n    .dataframe thead th {\n        text-align: right;\n    }\n</style>\n<table border=\"1\" class=\"dataframe\">\n  <thead>\n    <tr style=\"text-align: right;\">\n      <th></th>\n      <th>0</th>\n      <th>1</th>\n      <th>2</th>\n      <th>3</th>\n      <th>4</th>\n      <th>5</th>\n      <th>6</th>\n      <th>7</th>\n      <th>8</th>\n      <th>9</th>\n      <th>...</th>\n      <th>531</th>\n      <th>532</th>\n      <th>533</th>\n      <th>534</th>\n      <th>535</th>\n      <th>536</th>\n      <th>537</th>\n      <th>538</th>\n      <th>539</th>\n      <th>540</th>\n    </tr>\n  </thead>\n  <tbody>\n    <tr>\n      <th>0</th>\n      <td>2023-11-07 18:48:26</td>\n      <td>consulenti-del-lavoro-sinsedia-il-consiglio-na...</td>\n      <td>https://www.ansa.it/sito/notizie/ordini_profes...</td>\n      <td>https://www.ansa.it/sito/notizie/economia/prof...</td>\n      <td>//div[@class='article-teaser']/div[@class='art...</td>\n      <td>1</td>\n      <td>&lt;meta charset=\"UTF-8\"&gt; &lt;/meta&gt;</td>\n      <td>Consulenti del lavoro, s'insedia il Consiglio ...</td>\n      <td>&lt;meta content=\"width=device-width, initial-sca...</td>\n      <td>&lt;link as=\"style\" href=\"/sito/cssnew/1024093008...</td>\n      <td>...</td>\n      <td>NaN</td>\n      <td>NaN</td>\n      <td>NaN</td>\n      <td>NaN</td>\n      <td>NaN</td>\n      <td>NaN</td>\n      <td>NaN</td>\n      <td>NaN</td>\n      <td>NaN</td>\n      <td>NaN</td>\n    </tr>\n    <tr>\n      <th>1</th>\n      <td>2023-11-08 16:05:38</td>\n      <td>cnos-fap-grandi-chance-per-la-filiera-tecnico-...</td>\n      <td>https://www.ansa.it/sito/notizie/fisco_lavoro/...</td>\n      <td>https://www.ansa.it/sito/notizie/economia/prof...</td>\n      <td>//div[@class='article-teaser']/div[@class='art...</td>\n      <td>1</td>\n      <td>&lt;meta charset=\"UTF-8\"&gt; &lt;/meta&gt;</td>\n      <td>Cnos-Fap, 'grandi chance per la filiera tecnic...</td>\n      <td>&lt;meta content=\"width=device-width, initial-sca...</td>\n      <td>&lt;link as=\"style\" href=\"/sito/cssnew/1024093008...</td>\n      <td>...</td>\n      <td>NaN</td>\n      <td>NaN</td>\n      <td>NaN</td>\n      <td>NaN</td>\n      <td>NaN</td>\n      <td>NaN</td>\n      <td>NaN</td>\n      <td>NaN</td>\n      <td>NaN</td>\n      <td>NaN</td>\n    </tr>\n    <tr>\n      <th>2</th>\n      <td>2023-11-11 00:14:31</td>\n      <td>ad-aosta-lunedi-convegno-della-cassa-dottori-c...</td>\n      <td>https://www.ansa.it/sito/notizie/casse_previde...</td>\n      <td>https://www.ansa.it/sito/notizie/economia/prof...</td>\n      <td>//div[@class='article-teaser']/div[@class='art...</td>\n      <td>1</td>\n      <td>&lt;meta charset=\"UTF-8\"&gt; &lt;/meta&gt;</td>\n      <td>Ad Aosta lunedì convegno della Cassa dottori c...</td>\n      <td>&lt;meta content=\"width=device-width, initial-sca...</td>\n      <td>&lt;link as=\"style\" href=\"/sito/cssnew/1024093008...</td>\n      <td>...</td>\n      <td>NaN</td>\n      <td>NaN</td>\n      <td>NaN</td>\n      <td>NaN</td>\n      <td>NaN</td>\n      <td>NaN</td>\n      <td>NaN</td>\n      <td>NaN</td>\n      <td>NaN</td>\n      <td>NaN</td>\n    </tr>\n    <tr>\n      <th>3</th>\n      <td>2023-11-11 00:14:32</td>\n      <td>calderone-per-le-pensioni-rinvio-o-stretta-sol...</td>\n      <td>https://www.ansa.it/sito/notizie/ordini_profes...</td>\n      <td>https://www.ansa.it/sito/notizie/economia/prof...</td>\n      <td>//div[@class='article-teaser']/div[@class='art...</td>\n      <td>1</td>\n      <td>&lt;meta charset=\"UTF-8\"&gt; &lt;/meta&gt;</td>\n      <td>Calderone, per le pensioni rinvio, o stretta s...</td>\n      <td>&lt;meta content=\"width=device-width, initial-sca...</td>\n      <td>&lt;link as=\"style\" href=\"/sito/cssnew/1024093008...</td>\n      <td>...</td>\n      <td>NaN</td>\n      <td>NaN</td>\n      <td>NaN</td>\n      <td>NaN</td>\n      <td>NaN</td>\n      <td>NaN</td>\n      <td>NaN</td>\n      <td>NaN</td>\n      <td>NaN</td>\n      <td>NaN</td>\n    </tr>\n    <tr>\n      <th>4</th>\n      <td>2023-11-11 00:14:33</td>\n      <td>manovra-confprofessioni-incentivi-ad-autonomi-...</td>\n      <td>https://www.ansa.it/sito/notizie/fisco_lavoro/...</td>\n      <td>https://www.ansa.it/sito/notizie/economia/prof...</td>\n      <td>//div[@class='article-teaser']/div[@class='art...</td>\n      <td>1</td>\n      <td>&lt;meta charset=\"UTF-8\"&gt; &lt;/meta&gt;</td>\n      <td>Manovra: Confprofessioni, incentivi ad autonom...</td>\n      <td>&lt;meta content=\"width=device-width, initial-sca...</td>\n      <td>&lt;link as=\"style\" href=\"/sito/cssnew/1024093008...</td>\n      <td>...</td>\n      <td>NaN</td>\n      <td>NaN</td>\n      <td>NaN</td>\n      <td>NaN</td>\n      <td>NaN</td>\n      <td>NaN</td>\n      <td>NaN</td>\n      <td>NaN</td>\n      <td>NaN</td>\n      <td>NaN</td>\n    </tr>\n    <tr>\n      <th>...</th>\n      <td>...</td>\n      <td>...</td>\n      <td>...</td>\n      <td>...</td>\n      <td>...</td>\n      <td>...</td>\n      <td>...</td>\n      <td>...</td>\n      <td>...</td>\n      <td>...</td>\n      <td>...</td>\n      <td>...</td>\n      <td>...</td>\n      <td>...</td>\n      <td>...</td>\n      <td>...</td>\n      <td>...</td>\n      <td>...</td>\n      <td>...</td>\n      <td>...</td>\n      <td>...</td>\n    </tr>\n    <tr>\n      <th>139</th>\n      <td>2023-11-08 16:05:38</td>\n      <td>alfredo-granata-nominato-direttore-generale-di...</td>\n      <td>https://www.ansa.it/sito/notizie/casse_previde...</td>\n      <td>https://www.ansa.it/sito/notizie/economia/prof...</td>\n      <td>//div[@class='article-teaser']/div[@class='art...</td>\n      <td>6</td>\n      <td>&lt;meta charset=\"UTF-8\"&gt; &lt;/meta&gt;</td>\n      <td>Alfredo Granata nominato direttore generale di...</td>\n      <td>&lt;meta content=\"width=device-width, initial-sca...</td>\n      <td>&lt;link as=\"style\" href=\"/sito/cssnew/1024093008...</td>\n      <td>...</td>\n      <td>NaN</td>\n      <td>NaN</td>\n      <td>NaN</td>\n      <td>NaN</td>\n      <td>NaN</td>\n      <td>NaN</td>\n      <td>NaN</td>\n      <td>NaN</td>\n      <td>NaN</td>\n      <td>NaN</td>\n    </tr>\n    <tr>\n      <th>140</th>\n      <td>2023-11-07 18:48:26</td>\n      <td>dottori-commercialisti-l8-novembre-la-cassa-in...</td>\n      <td>https://www.ansa.it/sito/notizie/casse_previde...</td>\n      <td>https://www.ansa.it/sito/notizie/economia/prof...</td>\n      <td>//div[@class='article-teaser']/div[@class='art...</td>\n      <td>7</td>\n      <td>&lt;meta charset=\"UTF-8\"&gt; &lt;/meta&gt;</td>\n      <td>Dottori commercialisti, l'8 novembre la Cassa ...</td>\n      <td>&lt;meta content=\"width=device-width, initial-sca...</td>\n      <td>&lt;link as=\"style\" href=\"/sito/cssnew/1024093008...</td>\n      <td>...</td>\n      <td>NaN</td>\n      <td>NaN</td>\n      <td>NaN</td>\n      <td>NaN</td>\n      <td>NaN</td>\n      <td>NaN</td>\n      <td>NaN</td>\n      <td>NaN</td>\n      <td>NaN</td>\n      <td>NaN</td>\n    </tr>\n    <tr>\n      <th>141</th>\n      <td>2023-11-08 16:05:39</td>\n      <td>maltempo-commercialisti-chiedono-lo-stop-alle-...</td>\n      <td>https://www.ansa.it/sito/notizie/ordini_profes...</td>\n      <td>https://www.ansa.it/sito/notizie/economia/prof...</td>\n      <td>//div[@class='article-teaser']/div[@class='art...</td>\n      <td>7</td>\n      <td>&lt;meta charset=\"UTF-8\"&gt; &lt;/meta&gt;</td>\n      <td>Maltempo, commercialisti chiedono lo stop alle...</td>\n      <td>&lt;meta content=\"width=device-width, initial-sca...</td>\n      <td>&lt;link as=\"style\" href=\"/sito/cssnew/1024093008...</td>\n      <td>...</td>\n      <td>NaN</td>\n      <td>NaN</td>\n      <td>NaN</td>\n      <td>NaN</td>\n      <td>NaN</td>\n      <td>NaN</td>\n      <td>NaN</td>\n      <td>NaN</td>\n      <td>NaN</td>\n      <td>NaN</td>\n    </tr>\n    <tr>\n      <th>142</th>\n      <td>2023-11-07 18:48:26</td>\n      <td>notai-parte-oggi-il-registro-volontario-dei-te...</td>\n      <td>https://www.ansa.it/sito/notizie/ordini_profes...</td>\n      <td>https://www.ansa.it/sito/notizie/economia/prof...</td>\n      <td>//div[@class='article-teaser']/div[@class='art...</td>\n      <td>8</td>\n      <td>&lt;meta charset=\"UTF-8\"&gt; &lt;/meta&gt;</td>\n      <td>Notai, parte oggi il registro volontario dei t...</td>\n      <td>&lt;meta content=\"width=device-width, initial-sca...</td>\n      <td>&lt;link as=\"style\" href=\"/sito/cssnew/1024093008...</td>\n      <td>...</td>\n      <td>NaN</td>\n      <td>NaN</td>\n      <td>NaN</td>\n      <td>NaN</td>\n      <td>NaN</td>\n      <td>NaN</td>\n      <td>NaN</td>\n      <td>NaN</td>\n      <td>NaN</td>\n      <td>NaN</td>\n    </tr>\n    <tr>\n      <th>143</th>\n      <td>2023-11-08 16:05:39</td>\n      <td>avvocati-una-giovane-su-2-ha-fermato-lattivita...</td>\n      <td>https://www.ansa.it/sito/notizie/fisco_lavoro/...</td>\n      <td>https://www.ansa.it/sito/notizie/economia/prof...</td>\n      <td>//div[@class='article-teaser']/div[@class='art...</td>\n      <td>8</td>\n      <td>&lt;meta charset=\"UTF-8\"&gt; &lt;/meta&gt;</td>\n      <td>Avvocati, una giovane su 2 ha fermato l'attivi...</td>\n      <td>&lt;meta content=\"width=device-width, initial-sca...</td>\n      <td>&lt;link as=\"style\" href=\"/sito/cssnew/1024093008...</td>\n      <td>...</td>\n      <td>NaN</td>\n      <td>NaN</td>\n      <td>NaN</td>\n      <td>NaN</td>\n      <td>NaN</td>\n      <td>NaN</td>\n      <td>NaN</td>\n      <td>NaN</td>\n      <td>NaN</td>\n      <td>NaN</td>\n    </tr>\n  </tbody>\n</table>\n<p>144 rows × 541 columns</p>\n</div>"
     },
     "execution_count": 23,
     "metadata": {},
     "output_type": "execute_result"
    }
   ],
   "source": [
    "df_finance"
   ],
   "metadata": {
    "collapsed": false,
    "ExecuteTime": {
     "end_time": "2023-12-14T07:56:35.098809100Z",
     "start_time": "2023-12-14T07:56:34.832426300Z"
    }
   }
  },
  {
   "cell_type": "code",
   "execution_count": 24,
   "outputs": [
    {
     "name": "stdout",
     "output_type": "stream",
     "text": [
      "{\n",
      "  \"Title\": {\n",
      "    \"type\": \"TITLE\",\n",
      "    \"importance\": 8\n",
      "  },\n",
      "  \"Publication Date\": {\n",
      "    \"type\": \"DATE\",\n",
      "    \"importance\": 6\n",
      "  },\n",
      "  \"Article Content\": {\n",
      "    \"type\": \"PROSE\",\n",
      "    \"importance\": 2\n",
      "  },\n",
      "  \"Category\": {\n",
      "    \"type\": \"TITLE\",\n",
      "    \"importance\": 4\n",
      "  },\n",
      "  \"Author\": {\n",
      "    \"type\": \"NAME\",\n",
      "    \"importance\": 2\n",
      "  }\n",
      "}\n"
     ]
    }
   ],
   "source": [
    "print(json.dumps(finance_ontology, indent=2))"
   ],
   "metadata": {
    "collapsed": false,
    "ExecuteTime": {
     "end_time": "2023-12-14T07:56:41.388120500Z",
     "start_time": "2023-12-14T07:56:40.977920200Z"
    }
   }
  },
  {
   "cell_type": "code",
   "execution_count": 25,
   "outputs": [],
   "source": [
    "new_job = pc.create_new_job(job_name=experiment_name, ontology=finance_ontology)\n",
    "new_job_id = new_job[\"jobId\"]"
   ],
   "metadata": {
    "collapsed": false,
    "ExecuteTime": {
     "end_time": "2023-12-14T07:56:45.343041100Z",
     "start_time": "2023-12-14T07:56:44.531392700Z"
    }
   }
  },
  {
   "cell_type": "code",
   "execution_count": 26,
   "outputs": [],
   "source": [
    "pc.upload_table(table_name=experiment_name,df=df_finance,job_id=new_job_id,columns_to_ignore=[0,1,2])"
   ],
   "metadata": {
    "collapsed": false,
    "ExecuteTime": {
     "end_time": "2023-12-14T07:56:53.232946Z",
     "start_time": "2023-12-14T07:56:46.468340600Z"
    }
   }
  },
  {
   "cell_type": "code",
   "execution_count": 27,
   "outputs": [],
   "source": [
    "pc.start_job(new_job_id)"
   ],
   "metadata": {
    "collapsed": false,
    "ExecuteTime": {
     "end_time": "2023-12-14T07:57:03.651680500Z",
     "start_time": "2023-12-14T07:56:56.071249800Z"
    }
   }
  },
  {
   "cell_type": "code",
   "execution_count": null,
   "outputs": [],
   "source": [],
   "metadata": {
    "collapsed": false
   }
  },
  {
   "cell_type": "markdown",
   "source": [
    "### Finance 2"
   ],
   "metadata": {
    "collapsed": false
   }
  },
  {
   "cell_type": "code",
   "execution_count": null,
   "outputs": [],
   "source": [
    "experiment_name = \"finance_2\"\n",
    "df_finance = dr.read_dataset(experiment_name)\n",
    "finance_ontology = ontologies[\"finance\"]"
   ],
   "metadata": {
    "collapsed": false
   }
  },
  {
   "cell_type": "code",
   "execution_count": null,
   "outputs": [],
   "source": [
    "df_finance"
   ],
   "metadata": {
    "collapsed": false
   }
  },
  {
   "cell_type": "code",
   "execution_count": null,
   "outputs": [],
   "source": [
    "print(json.dumps(finance_ontology, indent=2))"
   ],
   "metadata": {
    "collapsed": false
   }
  },
  {
   "cell_type": "code",
   "execution_count": null,
   "outputs": [],
   "source": [
    "new_job = pc.create_new_job(job_name=experiment_name, ontology=finance_ontology)\n",
    "new_job_id = new_job[\"jobId\"]\n",
    "pc.upload_table(table_name=experiment_name,df=df_finance,job_id=new_job_id,columns_to_ignore=[0,1,2])\n",
    "pc.start_job(new_job_id)"
   ],
   "metadata": {
    "collapsed": false
   }
  },
  {
   "cell_type": "markdown",
   "source": [
    "### Hotels 1"
   ],
   "metadata": {
    "collapsed": false
   }
  },
  {
   "cell_type": "code",
   "execution_count": null,
   "outputs": [],
   "source": [
    "experiment_name = \"hotels_1\"\n",
    "df_hotels = dr.read_dataset(experiment_name)\n",
    "hotels_ontology = ontologies[\"hotels\"]"
   ],
   "metadata": {
    "collapsed": false
   }
  },
  {
   "cell_type": "code",
   "execution_count": null,
   "outputs": [],
   "source": [
    "df_hotels"
   ],
   "metadata": {
    "collapsed": false
   }
  },
  {
   "cell_type": "code",
   "execution_count": null,
   "outputs": [],
   "source": [
    "print(json.dumps(hotels_ontology, indent=2))"
   ],
   "metadata": {
    "collapsed": false
   }
  },
  {
   "cell_type": "code",
   "execution_count": null,
   "outputs": [],
   "source": [
    "new_job = pc.create_new_job(job_name=experiment_name, ontology=hotels_ontology)\n",
    "new_job_id = new_job[\"jobId\"]\n",
    "pc.upload_table(table_name=experiment_name,df=df_hotels,job_id=new_job_id,columns_to_ignore=[0,1])\n",
    "pc.start_job(new_job_id)"
   ],
   "metadata": {
    "collapsed": false
   }
  },
  {
   "cell_type": "markdown",
   "source": [
    "### Hotels 2"
   ],
   "metadata": {
    "collapsed": false
   }
  },
  {
   "cell_type": "code",
   "execution_count": null,
   "outputs": [],
   "source": [
    "experiment_name = \"hotels_2\"\n",
    "df_hotels = dr.read_dataset(experiment_name)\n",
    "hotels_ontology = ontologies[\"hotels\"]"
   ],
   "metadata": {
    "collapsed": false
   }
  },
  {
   "cell_type": "code",
   "execution_count": null,
   "outputs": [],
   "source": [
    "df_hotels"
   ],
   "metadata": {
    "collapsed": false
   }
  },
  {
   "cell_type": "code",
   "execution_count": null,
   "outputs": [],
   "source": [
    "print(json.dumps(hotels_ontology, indent=2))"
   ],
   "metadata": {
    "collapsed": false
   }
  },
  {
   "cell_type": "code",
   "execution_count": null,
   "outputs": [],
   "source": [
    "new_job = pc.create_new_job(job_name=experiment_name, ontology=hotels_ontology)\n",
    "new_job_id = new_job[\"jobId\"]\n",
    "pc.upload_table(table_name=experiment_name,df=df_hotels,job_id=new_job_id,columns_to_ignore=[0,1,2])\n",
    "pc.start_job(new_job_id)"
   ],
   "metadata": {
    "collapsed": false
   }
  },
  {
   "cell_type": "markdown",
   "source": [
    "### Jobs 1"
   ],
   "metadata": {
    "collapsed": false
   }
  },
  {
   "cell_type": "markdown",
   "source": [
    "### Jobs 2"
   ],
   "metadata": {
    "collapsed": false
   }
  },
  {
   "cell_type": "markdown",
   "source": [
    "### Real estate 1"
   ],
   "metadata": {
    "collapsed": false
   }
  },
  {
   "cell_type": "markdown",
   "source": [
    "### Restaurants 1"
   ],
   "metadata": {
    "collapsed": false
   }
  },
  {
   "cell_type": "markdown",
   "source": [
    "### Restaurants 2"
   ],
   "metadata": {
    "collapsed": false
   }
  },
  {
   "cell_type": "code",
   "execution_count": null,
   "outputs": [],
   "source": [],
   "metadata": {
    "collapsed": false
   }
  }
 ],
 "metadata": {
  "kernelspec": {
   "display_name": "Python 3",
   "language": "python",
   "name": "python3"
  },
  "language_info": {
   "codemirror_mode": {
    "name": "ipython",
    "version": 2
   },
   "file_extension": ".py",
   "mimetype": "text/x-python",
   "name": "python",
   "nbconvert_exporter": "python",
   "pygments_lexer": "ipython2",
   "version": "2.7.6"
  }
 },
 "nbformat": 4,
 "nbformat_minor": 0
}
