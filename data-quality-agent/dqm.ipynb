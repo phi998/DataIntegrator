{
 "cells": [
  {
   "cell_type": "markdown",
   "source": [
    "# Data Quality\n",
    "\n",
    "This notebook aims to show the performance of the pipeline, in terms of precision and recall.\n",
    "\n",
    "The main aim is to measure the performance of activities that are delegated to external services, like ChatGpt or other LLMs. Data quality measurements for classic tasks like dropping html tags and semi-empty columns are ignored since the moment we trust the tools python gives us.\n",
    "There's an experiment execution for each dataset.\n",
    "In this notebook we will see mainly column naming, with a short focus on other tasks, like record linkage, that are not involved in the final project.\n",
    "\n",
    "### How data quality is measured\n",
    "\n",
    "Independently from the tasks we want to perform, we measure the similarity between two tables: the input and what we expect."
   ],
   "metadata": {
    "collapsed": false
   }
  },
  {
   "cell_type": "markdown",
   "source": [
    "## Column naming\n",
    "\n",
    "Column naming is the activity to give a name to each column of a table.\n",
    "There are two different scenarios:\n",
    "- column names are provided: in this case we have an ontology\n",
    "- column names are not provided\n",
    "\n",
    "Following the study done with \"Column Type Annotation using ChatGPT\" (https://arxiv.org/abs/2306.00745) we study only the case where ontology is provided, since it gives the most accurate result.\n",
    "Furthermore, the user is asked to give some inputs, like the ontology, the importance of each item of the ontology and the type (title, prose, numeric)."
   ],
   "metadata": {
    "collapsed": false
   }
  },
  {
   "cell_type": "markdown",
   "source": [
    "## Experiments\n",
    "\n"
   ],
   "metadata": {
    "collapsed": false
   }
  }
 ],
 "metadata": {
  "kernelspec": {
   "display_name": "Python 3",
   "language": "python",
   "name": "python3"
  },
  "language_info": {
   "codemirror_mode": {
    "name": "ipython",
    "version": 2
   },
   "file_extension": ".py",
   "mimetype": "text/x-python",
   "name": "python",
   "nbconvert_exporter": "python",
   "pygments_lexer": "ipython2",
   "version": "2.7.6"
  }
 },
 "nbformat": 4,
 "nbformat_minor": 0
}
